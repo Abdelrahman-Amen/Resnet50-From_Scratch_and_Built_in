{
  "nbformat": 4,
  "nbformat_minor": 0,
  "metadata": {
    "colab": {
      "provenance": [],
      "gpuType": "T4"
    },
    "kernelspec": {
      "name": "python3",
      "display_name": "Python 3"
    },
    "language_info": {
      "name": "python"
    },
    "accelerator": "GPU"
  },
  "cells": [
    {
      "cell_type": "code",
      "execution_count": 1,
      "metadata": {
        "id": "TiwoXXWzHMXa"
      },
      "outputs": [],
      "source": [
        "import numpy as np\n",
        "import matplotlib.pyplot as plt\n",
        "import seaborn as sns\n",
        "import tensorflow as tf\n",
        "from tensorflow import keras\n",
        "from keras import layers, models\n",
        "from keras.utils import to_categorical\n",
        "from keras.preprocessing.image import ImageDataGenerator\n",
        "from sklearn.metrics import confusion_matrix\n",
        "from sklearn.metrics import classification_report\n",
        "from keras.models import Sequential\n",
        "from keras.layers import Conv2D, MaxPooling2D, Flatten, Dense, BatchNormalization, Activation,GlobalAveragePooling2D\n",
        "from keras.optimizers import Adam\n",
        "from keras.preprocessing.image import img_to_array, array_to_img\n",
        "from keras.applications import ResNet50"
      ]
    },
    {
      "cell_type": "code",
      "source": [
        "# Load MNIST data\n",
        "from keras.datasets import mnist\n",
        "(train_images, train_labels), (test_images, test_labels) = mnist.load_data()"
      ],
      "metadata": {
        "colab": {
          "base_uri": "https://localhost:8080/"
        },
        "id": "s30SE-KnH_c3",
        "outputId": "32de3e90-8512-4a85-9bdf-c76315712ae5"
      },
      "execution_count": 2,
      "outputs": [
        {
          "output_type": "stream",
          "name": "stdout",
          "text": [
            "Downloading data from https://storage.googleapis.com/tensorflow/tf-keras-datasets/mnist.npz\n",
            "11490434/11490434 [==============================] - 0s 0us/step\n"
          ]
        }
      ]
    },
    {
      "cell_type": "code",
      "source": [
        "from skimage.transform import resize  # Correct import for resize\n",
        "\n",
        "train_images_resized = np.array([resize(img_to_array(image), (32, 32, 3)) for image in train_images])\n",
        "test_images_resized = np.array([resize(img_to_array(image), (32, 32, 3)) for image in test_images])"
      ],
      "metadata": {
        "id": "xRP94QQQH_fh"
      },
      "execution_count": 3,
      "outputs": []
    },
    {
      "cell_type": "code",
      "source": [
        "# Normalize pixel values to be between 0 and 1\n",
        "train_images_rgb = train_images_resized.astype('float32') / 255\n",
        "test_images_rgb = test_images_resized.astype('float32') / 255"
      ],
      "metadata": {
        "id": "OCBjlq9fH_iK"
      },
      "execution_count": 4,
      "outputs": []
    },
    {
      "cell_type": "code",
      "source": [
        "# Convert labels to one-hot encoding\n",
        "train_labels_one_hot = to_categorical(train_labels)\n",
        "test_labels_one_hot = to_categorical(test_labels)"
      ],
      "metadata": {
        "id": "BQJKbCQZH_kk"
      },
      "execution_count": 5,
      "outputs": []
    },
    {
      "cell_type": "markdown",
      "source": [
        "# Resnet 50 architecture"
      ],
      "metadata": {
        "id": "75R2WpHp90rq"
      }
    },
    {
      "cell_type": "code",
      "source": [
        "# Create ResNet-50 model\n",
        "model = Sequential()\n",
        "\n",
        "# Stage 1\n",
        "model.add(Conv2D(64, kernel_size=(7, 7), strides=(2, 2), padding='same', input_shape=(32, 32, 3)))\n",
        "model.add(BatchNormalization())\n",
        "model.add(Activation('relu'))\n",
        "model.add(MaxPooling2D(pool_size=(3, 3), strides=(2, 2), padding='same'))\n",
        "\n",
        "# Stage 2\n",
        "model.add(Conv2D(64, kernel_size=(1, 1), strides=(1, 1), padding='same'))\n",
        "model.add(BatchNormalization())\n",
        "model.add(Activation('relu'))\n",
        "model.add(Conv2D(64, kernel_size=(3, 3), strides=(1, 1), padding='same'))\n",
        "model.add(BatchNormalization())\n",
        "model.add(Activation('relu'))\n",
        "model.add(Conv2D(256, kernel_size=(1, 1), strides=(1, 1), padding='same'))\n",
        "model.add(BatchNormalization())\n",
        "model.add(Activation('relu'))\n",
        "\n",
        "# Stage 3\n",
        "model.add(Conv2D(128, kernel_size=(1, 1), strides=(2, 2), padding='same'))\n",
        "model.add(BatchNormalization())\n",
        "model.add(Activation('relu'))\n",
        "model.add(Conv2D(128, kernel_size=(3, 3), strides=(1, 1), padding='same'))\n",
        "model.add(BatchNormalization())\n",
        "model.add(Activation('relu'))\n",
        "model.add(Conv2D(512, kernel_size=(1, 1), strides=(1, 1), padding='same'))\n",
        "model.add(BatchNormalization())\n",
        "model.add(Activation('relu'))\n",
        "\n",
        "# Stage 4\n",
        "model.add(Conv2D(256, kernel_size=(1, 1), strides=(2, 2), padding='same'))\n",
        "model.add(BatchNormalization())\n",
        "model.add(Activation('relu'))\n",
        "model.add(Conv2D(256, kernel_size=(3, 3), strides=(1, 1), padding='same'))\n",
        "model.add(BatchNormalization())\n",
        "model.add(Activation('relu'))\n",
        "model.add(Conv2D(1024, kernel_size=(1, 1), strides=(1, 1), padding='same'))\n",
        "model.add(BatchNormalization())\n",
        "model.add(Activation('relu'))\n",
        "\n",
        "# Stage 5\n",
        "model.add(Conv2D(512, kernel_size=(1, 1), strides=(2, 2), padding='same'))\n",
        "model.add(BatchNormalization())\n",
        "model.add(Activation('relu'))\n",
        "model.add(Conv2D(512, kernel_size=(3, 3), strides=(1, 1), padding='same'))\n",
        "model.add(BatchNormalization())\n",
        "model.add(Activation('relu'))\n",
        "model.add(Conv2D(2048, kernel_size=(1, 1), strides=(1, 1), padding='same'))\n",
        "model.add(BatchNormalization())\n",
        "model.add(Activation('relu'))\n",
        "\n",
        "# Pooling and flattening\n",
        "model.add(GlobalAveragePooling2D())\n",
        "model.add(Flatten())\n",
        "\n",
        "# Dense layers\n",
        "model.add(Dense(units=1000, activation='relu'))\n",
        "model.add(Dense(units=1000, activation='relu'))\n",
        "model.add(Dense(units=10, activation='softmax'))\n"
      ],
      "metadata": {
        "id": "9NA2EvwwH_nN"
      },
      "execution_count": 6,
      "outputs": []
    },
    {
      "cell_type": "markdown",
      "source": [
        "![0_tH9evuOFqk8F41FG.jpg](data:image/jpeg;base64,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)"
      ],
      "metadata": {
        "id": "Itz6s9L6MRU1"
      }
    },
    {
      "cell_type": "code",
      "source": [
        "# Compile the model\n",
        "model.compile(\n",
        "    loss='categorical_crossentropy',\n",
        "    optimizer=Adam(),\n",
        "    metrics=['accuracy']\n",
        ")"
      ],
      "metadata": {
        "id": "-FZIESIQIAM8"
      },
      "execution_count": 7,
      "outputs": []
    },
    {
      "cell_type": "code",
      "source": [
        "# Train the model\n",
        "history = model.fit(train_images_rgb, train_labels_one_hot, epochs=5, batch_size=64, validation_data=(test_images_rgb, test_labels_one_hot))"
      ],
      "metadata": {
        "colab": {
          "base_uri": "https://localhost:8080/"
        },
        "id": "dO-qe6K3IAPR",
        "outputId": "ab107af5-23c2-4866-8cfd-9a6830b0df16"
      },
      "execution_count": 8,
      "outputs": [
        {
          "output_type": "stream",
          "name": "stdout",
          "text": [
            "Epoch 1/5\n",
            "938/938 [==============================] - 29s 17ms/step - loss: 0.2205 - accuracy: 0.9432 - val_loss: 0.0946 - val_accuracy: 0.9778\n",
            "Epoch 2/5\n",
            "938/938 [==============================] - 14s 14ms/step - loss: 0.1021 - accuracy: 0.9754 - val_loss: 0.1095 - val_accuracy: 0.9774\n",
            "Epoch 3/5\n",
            "938/938 [==============================] - 14s 15ms/step - loss: 0.0834 - accuracy: 0.9805 - val_loss: 0.1615 - val_accuracy: 0.9674\n",
            "Epoch 4/5\n",
            "938/938 [==============================] - 16s 17ms/step - loss: 0.0704 - accuracy: 0.9839 - val_loss: 0.0727 - val_accuracy: 0.9850\n",
            "Epoch 5/5\n",
            "938/938 [==============================] - 14s 15ms/step - loss: 0.0706 - accuracy: 0.9838 - val_loss: 0.0934 - val_accuracy: 0.9810\n"
          ]
        }
      ]
    },
    {
      "cell_type": "code",
      "source": [
        "# Display the model summary\n",
        "model.summary()"
      ],
      "metadata": {
        "colab": {
          "base_uri": "https://localhost:8080/"
        },
        "id": "fqSvL7ZTIASK",
        "outputId": "db98e30f-e4d9-4858-d84c-85e34bd38451"
      },
      "execution_count": 9,
      "outputs": [
        {
          "output_type": "stream",
          "name": "stdout",
          "text": [
            "Model: \"sequential\"\n",
            "_________________________________________________________________\n",
            " Layer (type)                Output Shape              Param #   \n",
            "=================================================================\n",
            " conv2d (Conv2D)             (None, 16, 16, 64)        9472      \n",
            "                                                                 \n",
            " batch_normalization (Batch  (None, 16, 16, 64)        256       \n",
            " Normalization)                                                  \n",
            "                                                                 \n",
            " activation (Activation)     (None, 16, 16, 64)        0         \n",
            "                                                                 \n",
            " max_pooling2d (MaxPooling2  (None, 8, 8, 64)          0         \n",
            " D)                                                              \n",
            "                                                                 \n",
            " conv2d_1 (Conv2D)           (None, 8, 8, 64)          4160      \n",
            "                                                                 \n",
            " batch_normalization_1 (Bat  (None, 8, 8, 64)          256       \n",
            " chNormalization)                                                \n",
            "                                                                 \n",
            " activation_1 (Activation)   (None, 8, 8, 64)          0         \n",
            "                                                                 \n",
            " conv2d_2 (Conv2D)           (None, 8, 8, 64)          36928     \n",
            "                                                                 \n",
            " batch_normalization_2 (Bat  (None, 8, 8, 64)          256       \n",
            " chNormalization)                                                \n",
            "                                                                 \n",
            " activation_2 (Activation)   (None, 8, 8, 64)          0         \n",
            "                                                                 \n",
            " conv2d_3 (Conv2D)           (None, 8, 8, 256)         16640     \n",
            "                                                                 \n",
            " batch_normalization_3 (Bat  (None, 8, 8, 256)         1024      \n",
            " chNormalization)                                                \n",
            "                                                                 \n",
            " activation_3 (Activation)   (None, 8, 8, 256)         0         \n",
            "                                                                 \n",
            " conv2d_4 (Conv2D)           (None, 4, 4, 128)         32896     \n",
            "                                                                 \n",
            " batch_normalization_4 (Bat  (None, 4, 4, 128)         512       \n",
            " chNormalization)                                                \n",
            "                                                                 \n",
            " activation_4 (Activation)   (None, 4, 4, 128)         0         \n",
            "                                                                 \n",
            " conv2d_5 (Conv2D)           (None, 4, 4, 128)         147584    \n",
            "                                                                 \n",
            " batch_normalization_5 (Bat  (None, 4, 4, 128)         512       \n",
            " chNormalization)                                                \n",
            "                                                                 \n",
            " activation_5 (Activation)   (None, 4, 4, 128)         0         \n",
            "                                                                 \n",
            " conv2d_6 (Conv2D)           (None, 4, 4, 512)         66048     \n",
            "                                                                 \n",
            " batch_normalization_6 (Bat  (None, 4, 4, 512)         2048      \n",
            " chNormalization)                                                \n",
            "                                                                 \n",
            " activation_6 (Activation)   (None, 4, 4, 512)         0         \n",
            "                                                                 \n",
            " conv2d_7 (Conv2D)           (None, 2, 2, 256)         131328    \n",
            "                                                                 \n",
            " batch_normalization_7 (Bat  (None, 2, 2, 256)         1024      \n",
            " chNormalization)                                                \n",
            "                                                                 \n",
            " activation_7 (Activation)   (None, 2, 2, 256)         0         \n",
            "                                                                 \n",
            " conv2d_8 (Conv2D)           (None, 2, 2, 256)         590080    \n",
            "                                                                 \n",
            " batch_normalization_8 (Bat  (None, 2, 2, 256)         1024      \n",
            " chNormalization)                                                \n",
            "                                                                 \n",
            " activation_8 (Activation)   (None, 2, 2, 256)         0         \n",
            "                                                                 \n",
            " conv2d_9 (Conv2D)           (None, 2, 2, 1024)        263168    \n",
            "                                                                 \n",
            " batch_normalization_9 (Bat  (None, 2, 2, 1024)        4096      \n",
            " chNormalization)                                                \n",
            "                                                                 \n",
            " activation_9 (Activation)   (None, 2, 2, 1024)        0         \n",
            "                                                                 \n",
            " conv2d_10 (Conv2D)          (None, 1, 1, 512)         524800    \n",
            "                                                                 \n",
            " batch_normalization_10 (Ba  (None, 1, 1, 512)         2048      \n",
            " tchNormalization)                                               \n",
            "                                                                 \n",
            " activation_10 (Activation)  (None, 1, 1, 512)         0         \n",
            "                                                                 \n",
            " conv2d_11 (Conv2D)          (None, 1, 1, 512)         2359808   \n",
            "                                                                 \n",
            " batch_normalization_11 (Ba  (None, 1, 1, 512)         2048      \n",
            " tchNormalization)                                               \n",
            "                                                                 \n",
            " activation_11 (Activation)  (None, 1, 1, 512)         0         \n",
            "                                                                 \n",
            " conv2d_12 (Conv2D)          (None, 1, 1, 2048)        1050624   \n",
            "                                                                 \n",
            " batch_normalization_12 (Ba  (None, 1, 1, 2048)        8192      \n",
            " tchNormalization)                                               \n",
            "                                                                 \n",
            " activation_12 (Activation)  (None, 1, 1, 2048)        0         \n",
            "                                                                 \n",
            " global_average_pooling2d (  (None, 2048)              0         \n",
            " GlobalAveragePooling2D)                                         \n",
            "                                                                 \n",
            " flatten (Flatten)           (None, 2048)              0         \n",
            "                                                                 \n",
            " dense (Dense)               (None, 1000)              2049000   \n",
            "                                                                 \n",
            " dense_1 (Dense)             (None, 1000)              1001000   \n",
            "                                                                 \n",
            " dense_2 (Dense)             (None, 10)                10010     \n",
            "                                                                 \n",
            "=================================================================\n",
            "Total params: 8316842 (31.73 MB)\n",
            "Trainable params: 8305194 (31.68 MB)\n",
            "Non-trainable params: 11648 (45.50 KB)\n",
            "_________________________________________________________________\n"
          ]
        }
      ]
    },
    {
      "cell_type": "code",
      "source": [
        "# Evaluate the model\n",
        "test_loss, test_acc = model.evaluate(test_images_rgb, test_labels_one_hot)\n",
        "print(f'Test accuracy: {test_acc * 100:.2f}%')"
      ],
      "metadata": {
        "colab": {
          "base_uri": "https://localhost:8080/"
        },
        "id": "WsZSDXT2IAU-",
        "outputId": "73deab8b-9d88-4aaa-c51e-27cf0fe0e28b"
      },
      "execution_count": 10,
      "outputs": [
        {
          "output_type": "stream",
          "name": "stdout",
          "text": [
            "313/313 [==============================] - 2s 5ms/step - loss: 0.0934 - accuracy: 0.9810\n",
            "Test accuracy: 98.10%\n"
          ]
        }
      ]
    },
    {
      "cell_type": "code",
      "source": [
        "# Make predictions\n",
        "predictions = model.predict(test_images_rgb)"
      ],
      "metadata": {
        "colab": {
          "base_uri": "https://localhost:8080/"
        },
        "id": "7Whl4ai5IAYC",
        "outputId": "193ea6c6-a713-4e25-fb04-56b87efaef7d"
      },
      "execution_count": 11,
      "outputs": [
        {
          "output_type": "stream",
          "name": "stdout",
          "text": [
            "313/313 [==============================] - 1s 3ms/step\n"
          ]
        }
      ]
    },
    {
      "cell_type": "code",
      "source": [
        "# Make predictions\n",
        "y_predicted = model.predict(test_images_rgb)"
      ],
      "metadata": {
        "colab": {
          "base_uri": "https://localhost:8080/"
        },
        "id": "MI1J0nQuIAws",
        "outputId": "de4c0e02-1836-4d75-cbf9-d8f05e1365d0"
      },
      "execution_count": 12,
      "outputs": [
        {
          "output_type": "stream",
          "name": "stdout",
          "text": [
            "313/313 [==============================] - 1s 3ms/step\n"
          ]
        }
      ]
    },
    {
      "cell_type": "code",
      "source": [
        "y_predicted=[np.argmax(i) for i in y_predicted]"
      ],
      "metadata": {
        "id": "OrXsEVgvIA1-"
      },
      "execution_count": 13,
      "outputs": []
    },
    {
      "cell_type": "code",
      "source": [
        "y_test=[np.argmax(i) for i in test_labels_one_hot]"
      ],
      "metadata": {
        "id": "1f58Le3rIA4s"
      },
      "execution_count": 14,
      "outputs": []
    },
    {
      "cell_type": "code",
      "source": [
        "con_matrix=confusion_matrix(y_test,y_predicted)"
      ],
      "metadata": {
        "id": "mlIWMeo6ISwQ"
      },
      "execution_count": 15,
      "outputs": []
    },
    {
      "cell_type": "code",
      "source": [
        "sns.heatmap(con_matrix,annot=True,fmt=\"d\")\n",
        "plt.ylabel('True')\n",
        "plt.xlabel('Predicted')"
      ],
      "metadata": {
        "colab": {
          "base_uri": "https://localhost:8080/",
          "height": 467
        },
        "id": "PEgSGjQqISyr",
        "outputId": "530964be-e9af-4cc7-e10f-7e0ffa6a697c"
      },
      "execution_count": 16,
      "outputs": [
        {
          "output_type": "execute_result",
          "data": {
            "text/plain": [
              "Text(0.5, 23.52222222222222, 'Predicted')"
            ]
          },
          "metadata": {},
          "execution_count": 16
        },
        {
          "output_type": "display_data",
          "data": {
            "text/plain": [
              "<Figure size 640x480 with 2 Axes>"
            ],
            "image/png": "[encoded data removed]"
          },
          "metadata": {}
        }
      ]
    },
    {
      "cell_type": "code",
      "source": [
        "CR=classification_report(y_test,y_predicted)\n",
        "print(CR)"
      ],
      "metadata": {
        "colab": {
          "base_uri": "https://localhost:8080/"
        },
        "id": "rWvJMRhZIA71",
        "outputId": "2ae6d52c-5ed8-474a-f353-fcf1219b2716"
      },
      "execution_count": 17,
      "outputs": [
        {
          "output_type": "stream",
          "name": "stdout",
          "text": [
            "              precision    recall  f1-score   support\n",
            "\n",
            "           0       0.99      0.99      0.99       980\n",
            "           1       0.98      1.00      0.99      1135\n",
            "           2       1.00      0.96      0.98      1032\n",
            "           3       0.95      1.00      0.97      1010\n",
            "           4       1.00      0.96      0.98       982\n",
            "           5       0.99      0.97      0.98       892\n",
            "           6       0.99      0.98      0.99       958\n",
            "           7       0.96      0.99      0.98      1028\n",
            "           8       1.00      0.97      0.98       974\n",
            "           9       0.96      0.98      0.97      1009\n",
            "\n",
            "    accuracy                           0.98     10000\n",
            "   macro avg       0.98      0.98      0.98     10000\n",
            "weighted avg       0.98      0.98      0.98     10000\n",
            "\n"
          ]
        }
      ]
    },
    {
      "cell_type": "markdown",
      "source": [
        "# part 2 using skip connection(shortcut connection)"
      ],
      "metadata": {
        "id": "Zg5_oU_d9WcC"
      }
    },
    {
      "cell_type": "code",
      "source": [
        "# Convert class vectors to binary class matrices\n",
        "y_train = to_categorical(train_labels, 10)\n",
        "y_test = to_categorical(test_labels, 10)"
      ],
      "metadata": {
        "id": "jIkmhj7B9ja7"
      },
      "execution_count": 18,
      "outputs": []
    },
    {
      "cell_type": "code",
      "source": [
        "def identity_block(x, filters, kernel_size=3):\n",
        "    # Identity block: no convolutional layer at shortcut\n",
        "    x_shortcut = x\n",
        "\n",
        "    x = Conv2D(filters, kernel_size=(1, 1), strides=(1, 1), padding='valid')(x)\n",
        "    x = BatchNormalization()(x)\n",
        "    x = Activation('relu')(x)\n",
        "\n",
        "    x = Conv2D(filters, kernel_size=(kernel_size, kernel_size), strides=(1, 1), padding='same')(x)\n",
        "    x = BatchNormalization()(x)\n",
        "    x = Activation('relu')(x)\n",
        "\n",
        "    x = Conv2D(filters * 4, kernel_size=(1, 1), strides=(1, 1), padding='valid')(x)\n",
        "    x = BatchNormalization()(x)\n",
        "\n",
        "    x = layers.Add()([x, x_shortcut])\n",
        "    x = Activation('relu')(x)\n",
        "\n",
        "    return x\n",
        "\n",
        "def conv_block(x, filters, kernel_size=3, strides=(2, 2)):\n",
        "    # Convolutional block: with convolutional layer at shortcut\n",
        "    x_shortcut = x\n",
        "\n",
        "    x = Conv2D(filters, kernel_size=(1, 1), strides=strides, padding='valid')(x)\n",
        "    x = BatchNormalization()(x)\n",
        "    x = Activation('relu')(x)\n",
        "\n",
        "    x = Conv2D(filters, kernel_size=(kernel_size, kernel_size), strides=(1, 1), padding='same')(x)\n",
        "    x = BatchNormalization()(x)\n",
        "    x = Activation('relu')(x)\n",
        "\n",
        "    x = Conv2D(filters * 4, kernel_size=(1, 1), strides=(1, 1), padding='valid')(x)\n",
        "    x = BatchNormalization()(x)\n",
        "\n",
        "    x_shortcut = Conv2D(filters * 4, kernel_size=(1, 1), strides=strides, padding='valid')(x_shortcut)\n",
        "    x_shortcut = BatchNormalization()(x_shortcut)\n",
        "\n",
        "    x = layers.Add()([x, x_shortcut])\n",
        "    x = Activation('relu')(x)\n",
        "\n",
        "    return x\n",
        "\n",
        "def resnet50(input_shape=(32, 32, 3), num_classes=10):\n",
        "    inputs = keras.Input(shape=input_shape)\n",
        "\n",
        "    x = Conv2D(64, kernel_size=(7, 7), strides=(2, 2), padding='same')(inputs)\n",
        "    x = BatchNormalization()(x)\n",
        "    x = Activation('relu')(x)\n",
        "\n",
        "    x = conv_block(x, 64)\n",
        "    x = identity_block(x, 64)\n",
        "    x = identity_block(x, 64)\n",
        "\n",
        "    x = conv_block(x, 128)\n",
        "    x = identity_block(x, 128)\n",
        "    x = identity_block(x, 128)\n",
        "    x = identity_block(x, 128)\n",
        "\n",
        "    x = conv_block(x, 256)\n",
        "    x = identity_block(x, 256)\n",
        "    x = identity_block(x, 256)\n",
        "    x = identity_block(x, 256)\n",
        "    x = identity_block(x, 256)\n",
        "\n",
        "    x = conv_block(x, 512)\n",
        "    x = identity_block(x, 512)\n",
        "    x = identity_block(x, 512)\n",
        "\n",
        "    x = GlobalAveragePooling2D()(x)\n",
        "    x = Dense(num_classes, activation='softmax')(x)\n",
        "\n",
        "    model = keras.Model(inputs=inputs, outputs=x, name='resnet50')\n",
        "\n",
        "    return model"
      ],
      "metadata": {
        "id": "N-HvI9hH-ZuF"
      },
      "execution_count": 19,
      "outputs": []
    },
    {
      "cell_type": "code",
      "source": [
        "# Build the ResNet-50 model\n",
        "resnet_model_Mnist = resnet50()\n",
        "# Compile the model\n",
        "resnet_model_Mnist.compile(optimizer=Adam(), loss='categorical_crossentropy', metrics=['accuracy'])"
      ],
      "metadata": {
        "id": "a-u_E9nFDNZ-"
      },
      "execution_count": 20,
      "outputs": []
    },
    {
      "cell_type": "code",
      "source": [
        "# Train the model\n",
        "resnet_history_Mnist = resnet_model_Mnist.fit(\n",
        "    train_images_rgb, y_train,\n",
        "    epochs=5,\n",
        "    batch_size=64,\n",
        "    validation_data=(test_images_rgb, y_test)\n",
        ")"
      ],
      "metadata": {
        "id": "7XvyQPP7DSGW",
        "colab": {
          "base_uri": "https://localhost:8080/"
        },
        "outputId": "ef61ad0a-512f-4708-c94b-1486aa4ee013"
      },
      "execution_count": 21,
      "outputs": [
        {
          "output_type": "stream",
          "name": "stdout",
          "text": [
            "Epoch 1/5\n",
            "938/938 [==============================] - 78s 48ms/step - loss: 0.3346 - accuracy: 0.9125 - val_loss: 66.3730 - val_accuracy: 0.2907\n",
            "Epoch 2/5\n",
            "938/938 [==============================] - 43s 46ms/step - loss: 0.1928 - accuracy: 0.9475 - val_loss: 0.0811 - val_accuracy: 0.9742\n",
            "Epoch 3/5\n",
            "938/938 [==============================] - 44s 47ms/step - loss: 0.1080 - accuracy: 0.9678 - val_loss: 0.0843 - val_accuracy: 0.9748\n",
            "Epoch 4/5\n",
            "938/938 [==============================] - 44s 47ms/step - loss: 0.1297 - accuracy: 0.9662 - val_loss: 0.0688 - val_accuracy: 0.9797\n",
            "Epoch 5/5\n",
            "938/938 [==============================] - 44s 47ms/step - loss: 0.0930 - accuracy: 0.9757 - val_loss: 0.0507 - val_accuracy: 0.9850\n"
          ]
        }
      ]
    },
    {
      "cell_type": "code",
      "source": [
        "# Evaluate the model\n",
        "test_loss, test_acc = resnet_model_Mnist.evaluate(test_images_rgb, y_test)\n",
        "print(f'Test accuracy: {test_acc * 100:.2f}%')\n"
      ],
      "metadata": {
        "id": "x9k1IXao-if7",
        "colab": {
          "base_uri": "https://localhost:8080/"
        },
        "outputId": "b06b17f8-109e-4970-fbcc-bf20426c7d6a"
      },
      "execution_count": 22,
      "outputs": [
        {
          "output_type": "stream",
          "name": "stdout",
          "text": [
            "313/313 [==============================] - 3s 11ms/step - loss: 0.0507 - accuracy: 0.9850\n",
            "Test accuracy: 98.50%\n"
          ]
        }
      ]
    },
    {
      "cell_type": "markdown",
      "source": [
        "# part 3 Resnet(Built_in)"
      ],
      "metadata": {
        "id": "VDexrLwTI1Es"
      }
    },
    {
      "cell_type": "code",
      "source": [
        "# Load pre-trained ResNet50 model\n",
        "base_resnet50_model = ResNet50(weights='imagenet', include_top=False, input_shape=(32, 32, 3))"
      ],
      "metadata": {
        "colab": {
          "base_uri": "https://localhost:8080/"
        },
        "id": "kRSxFhOVKc_Y",
        "outputId": "4c3a34db-c648-4a32-bb5b-a51499e97003"
      },
      "execution_count": 23,
      "outputs": [
        {
          "output_type": "stream",
          "name": "stdout",
          "text": [
            "Downloading data from https://storage.googleapis.com/tensorflow/keras-applications/resnet/resnet50_weights_tf_dim_ordering_tf_kernels_notop.h5\n",
            "94765736/94765736 [==============================] - 0s 0us/step\n"
          ]
        }
      ]
    },
    {
      "cell_type": "code",
      "source": [
        "# Freeze layers\n",
        "for layer in base_resnet50_model.layers:\n",
        "    layer.trainable = False"
      ],
      "metadata": {
        "id": "A267I7QbKdCR"
      },
      "execution_count": 24,
      "outputs": []
    },
    {
      "cell_type": "code",
      "source": [
        "model = models.Sequential()\n",
        "model.add(base_resnet50_model)\n",
        "model.add(layers.GlobalAveragePooling2D())  # Global average pooling instead of Flatten\n",
        "model.add(layers.Dense(4096, activation='relu'))\n",
        "model.add(layers.BatchNormalization())\n",
        "model.add(layers.Dropout(0.5))\n",
        "model.add(layers.Dense(10, activation='softmax'))"
      ],
      "metadata": {
        "id": "sA_-CrCLKdEl"
      },
      "execution_count": 25,
      "outputs": []
    },
    {
      "cell_type": "code",
      "source": [
        "# Compile the model\n",
        "model.compile(\n",
        "    loss='categorical_crossentropy',\n",
        "    optimizer=Adam(),\n",
        "    metrics=['accuracy']\n",
        ")"
      ],
      "metadata": {
        "id": "D2pxdf8iKpr4"
      },
      "execution_count": 26,
      "outputs": []
    },
    {
      "cell_type": "code",
      "source": [
        "# Train the model\n",
        "history = model.fit(train_images_rgb, train_labels_one_hot, epochs=5, batch_size=64, validation_data=(test_images_rgb, test_labels_one_hot))"
      ],
      "metadata": {
        "colab": {
          "base_uri": "https://localhost:8080/"
        },
        "id": "phqzfFUNKdMg",
        "outputId": "ad37c899-9f62-479d-9ccb-59c78cd1b656"
      },
      "execution_count": 27,
      "outputs": [
        {
          "output_type": "stream",
          "name": "stdout",
          "text": [
            "Epoch 1/5\n",
            "938/938 [==============================] - 24s 18ms/step - loss: 0.3541 - accuracy: 0.8886 - val_loss: 0.7109 - val_accuracy: 0.7886\n",
            "Epoch 2/5\n",
            "938/938 [==============================] - 15s 16ms/step - loss: 0.2543 - accuracy: 0.9206 - val_loss: 0.6022 - val_accuracy: 0.8247\n",
            "Epoch 3/5\n",
            "938/938 [==============================] - 15s 16ms/step - loss: 0.2358 - accuracy: 0.9268 - val_loss: 0.6512 - val_accuracy: 0.8085\n",
            "Epoch 4/5\n",
            "938/938 [==============================] - 15s 16ms/step - loss: 0.2156 - accuracy: 0.9330 - val_loss: 0.6443 - val_accuracy: 0.8040\n",
            "Epoch 5/5\n",
            "938/938 [==============================] - 16s 17ms/step - loss: 0.2051 - accuracy: 0.9356 - val_loss: 0.4173 - val_accuracy: 0.8744\n"
          ]
        }
      ]
    },
    {
      "cell_type": "code",
      "source": [
        "# Evaluate the model\n",
        "test_loss, test_acc = model.evaluate(test_images_rgb, test_labels_one_hot)\n",
        "print(f'Test accuracy: {test_acc * 100:.2f}%')"
      ],
      "metadata": {
        "colab": {
          "base_uri": "https://localhost:8080/"
        },
        "id": "PsjP_UMSKxYE",
        "outputId": "76e2f1a1-9973-4210-a2ce-2f57e95cf036"
      },
      "execution_count": 28,
      "outputs": [
        {
          "output_type": "stream",
          "name": "stdout",
          "text": [
            "313/313 [==============================] - 4s 11ms/step - loss: 0.4173 - accuracy: 0.8744\n",
            "Test accuracy: 87.44%\n"
          ]
        }
      ]
    }
  ]
}